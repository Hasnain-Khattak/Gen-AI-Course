{
 "cells": [
  {
   "cell_type": "markdown",
   "metadata": {},
   "source": [
    "# **Reranker RAG**"
   ]
  },
  {
   "cell_type": "code",
   "execution_count": 2,
   "metadata": {},
   "outputs": [],
   "source": [
    "from langchain_community.document_loaders import WebBaseLoader\n",
    "from langchain_text_splitters import RecursiveCharacterTextSplitter\n",
    "from langchain_community.embeddings import CohereEmbeddings\n",
    "from langchain_community.vectorstores import FAISS\n",
    "from langchain_cohere import CohereRerank\n",
    "import warnings\n",
    "warnings.filterwarnings('ignore')\n",
    "\n",
    "loader = WebBaseLoader(\"https://python.langchain.com/docs/integrations/retrievers/cohere-reranker/\")\n",
    "docs = loader.load()\n",
    "\n",
    "spiltter = RecursiveCharacterTextSplitter(chunk_size=300, chunk_overlap=15)\n",
    "chunks = spiltter.split_documents(docs)"
   ]
  },
  {
   "cell_type": "code",
   "execution_count": 15,
   "metadata": {},
   "outputs": [],
   "source": [
    "import os\n",
    "os.environ[\"COHERE_API_KEY\"] = \"API-KEY\""
   ]
  },
  {
   "cell_type": "code",
   "execution_count": 16,
   "metadata": {},
   "outputs": [],
   "source": [
    "embadding = CohereEmbeddings(model=\"embed-english-v3.0\" , user_agent='langchain')"
   ]
  },
  {
   "cell_type": "code",
   "execution_count": 7,
   "metadata": {},
   "outputs": [],
   "source": [
    "vectorstore = FAISS.from_documents(chunks, embadding).as_retriever(search_kwargs={\"k\": 20})"
   ]
  },
  {
   "cell_type": "code",
   "execution_count": 8,
   "metadata": {},
   "outputs": [
    {
     "data": {
      "text/plain": [
       "[Document(id='cd186178-90d7-4dc3-8410-8b1b7d7a234a', metadata={'source': 'https://python.langchain.com/docs/integrations/retrievers/cohere-reranker/', 'title': 'Cohere reranker | \\uf8ffü¶úÔ∏è\\uf8ffüîó LangChain', 'description': 'Cohere is a Canadian startup that provides natural language processing models that help companies improve human-machine interactions.', 'language': 'en'}, page_content=\"This notebook shows how to use Cohere's rerank endpoint in a retriever. This builds on top of ideas in the ContextualCompressionRetriever.\\n%pip install --upgrade --quiet  cohere\\n%pip install --upgrade --quiet  faiss# OR  (depending on Python version)%pip install --upgrade --quiet  faiss-cpu\"),\n",
       " Document(id='bca2f79f-72d7-4eab-8775-f18a9b1299a5', metadata={'source': 'https://python.langchain.com/docs/integrations/retrievers/cohere-reranker/', 'title': 'Cohere reranker | \\uf8ffü¶úÔ∏è\\uf8ffüîó LangChain', 'description': 'Cohere is a Canadian startup that provides natural language processing models that help companies improve human-machine interactions.', 'language': 'en'}, page_content=\"Doing reranking with CohereRerank‚Äã\\nNow let's wrap our base retriever with a ContextualCompressionRetriever. We'll add an CohereRerank, uses the Cohere rerank endpoint to rerank the returned results.\\nDo note that it is mandatory to specify the model name in CohereRerank!\"),\n",
       " Document(id='3e05e923-b236-4f2e-96b9-c09b1f1400f1', metadata={'source': 'https://python.langchain.com/docs/integrations/retrievers/cohere-reranker/', 'title': 'Cohere reranker | \\uf8ffü¶úÔ∏è\\uf8ffüîó LangChain', 'description': 'Cohere is a Canadian startup that provides natural language processing models that help companies improve human-machine interactions.', 'language': 'en'}, page_content='Cohere is a Canadian startup that provides natural language processing models that help companies improve human-machine interactions.'),\n",
       " Document(id='2dab6df8-dadf-4d42-ac36-023165080899', metadata={'source': 'https://python.langchain.com/docs/integrations/retrievers/cohere-reranker/', 'title': 'Cohere reranker | \\uf8ffü¶úÔ∏è\\uf8ffüîó LangChain', 'description': 'Cohere is a Canadian startup that provides natural language processing models that help companies improve human-machine interactions.', 'language': 'en'}, page_content='from langchain.retrievers.contextual_compression import ContextualCompressionRetrieverfrom langchain_cohere import CohereRerankfrom langchain_community.llms import Coherellm = Cohere(temperature=0)compressor = CohereRerank(model=\"rerank-english-v3.0\")compression_retriever ='),\n",
       " Document(id='05f58beb-ea97-4f46-a738-4007814b8be1', metadata={'source': 'https://python.langchain.com/docs/integrations/retrievers/cohere-reranker/', 'title': 'Cohere reranker | \\uf8ffü¶úÔ∏è\\uf8ffüîó LangChain', 'description': 'Cohere is a Canadian startup that provides natural language processing models that help companies improve human-machine interactions.', 'language': 'en'}, page_content='CohereRerank | Cohere'),\n",
       " Document(id='ac4377ca-3327-4398-a164-0758b2a94a8f', metadata={'source': 'https://python.langchain.com/docs/integrations/retrievers/cohere-reranker/', 'title': 'Cohere reranker | \\uf8ffü¶úÔ∏è\\uf8ffüîó LangChain', 'description': 'Cohere is a Canadian startup that provides natural language processing models that help companies improve human-machine interactions.', 'language': 'en'}, page_content='Edit this pageWas this page helpful?PreviousChatGPT pluginNextCohere RAGSet up the base vector store retrieverDoing reranking with CohereRerankRelatedCommunityTwitterGitHubOrganizationPythonJS/TSMoreHomepageBlogYouTubeCopyright ¬© 2025 LangChain, Inc.'),\n",
       " Document(id='24cd72eb-d2c8-48cf-8bd7-d05e23730990', metadata={'source': 'https://python.langchain.com/docs/integrations/retrievers/cohere-reranker/', 'title': 'Cohere reranker | \\uf8ffü¶úÔ∏è\\uf8ffüîó LangChain', 'description': 'Cohere is a Canadian startup that provides natural language processing models that help companies improve human-machine interactions.', 'language': 'en'}, page_content='Cohere reranker | \\uf8ffü¶úÔ∏è\\uf8ffüîó LangChain'),\n",
       " Document(id='c4602cb4-c78b-4320-8e65-0d90d3be0ab7', metadata={'source': 'https://python.langchain.com/docs/integrations/retrievers/cohere-reranker/', 'title': 'Cohere reranker | \\uf8ffü¶úÔ∏è\\uf8ffüîó LangChain', 'description': 'Cohere is a Canadian startup that provides natural language processing models that help companies improve human-machine interactions.', 'language': 'en'}, page_content='# get a new token: https://dashboard.cohere.ai/import getpassimport osif \"COHERE_API_KEY\" not in os.environ:    os.environ[\"COHERE_API_KEY\"] = getpass.getpass(\"Cohere API Key:\")'),\n",
       " Document(id='40602fba-fdad-40b2-a371-f7aa5da259f4', metadata={'source': 'https://python.langchain.com/docs/integrations/retrievers/cohere-reranker/', 'title': 'Cohere reranker | \\uf8ffü¶úÔ∏è\\uf8ffüîó LangChain', 'description': 'Cohere is a Canadian startup that provides natural language processing models that help companies improve human-machine interactions.', 'language': 'en'}, page_content='You can of course use this retriever within a QA pipeline\\nfrom langchain.chains import RetrievalQAAPI Reference:RetrievalQA\\nchain = RetrievalQA.from_chain_type(    llm=Cohere(temperature=0), retriever=compression_retriever)\\nchain({\"query\": query})'),\n",
       " Document(id='ce66f661-2e0e-41a1-b8ae-b43e201ed4bc', metadata={'source': 'https://python.langchain.com/docs/integrations/retrievers/cohere-reranker/', 'title': 'Cohere reranker | \\uf8ffü¶úÔ∏è\\uf8ffüîó LangChain', 'description': 'Cohere is a Canadian startup that provides natural language processing models that help companies improve human-machine interactions.', 'language': 'en'}, page_content='= ContextualCompressionRetriever(    base_compressor=compressor, base_retriever=retriever)compressed_docs = compression_retriever.invoke(    \"What did the president say about Ketanji Jackson Brown\")pretty_print_docs(compressed_docs)API Reference:ContextualCompressionRetriever | CohereRerank |'),\n",
       " Document(id='ba784db1-5d1b-44a1-a848-f12b67daf8c4', metadata={'source': 'https://python.langchain.com/docs/integrations/retrievers/cohere-reranker/', 'title': 'Cohere reranker | \\uf8ffü¶úÔ∏è\\uf8ffüîó LangChain', 'description': 'Cohere is a Canadian startup that provides natural language processing models that help companies improve human-machine interactions.', 'language': 'en'}, page_content='texts, CohereEmbeddings(model=\"embed-english-v3.0\")).as_retriever(search_kwargs={\"k\": 20})query = \"What did the president say about Ketanji Brown Jackson\"docs = retriever.invoke(query)pretty_print_docs(docs)API Reference:TextLoader | CohereEmbeddings | FAISS | RecursiveCharacterTextSplitter'),\n",
       " Document(id='6ea64181-691e-44b8-92ca-321262e07ceb', metadata={'source': 'https://python.langchain.com/docs/integrations/retrievers/cohere-reranker/', 'title': 'Cohere reranker | \\uf8ffü¶úÔ∏è\\uf8ffüîó LangChain', 'description': 'Cohere is a Canadian startup that provides natural language processing models that help companies improve human-machine interactions.', 'language': 'en'}, page_content='Vectorstore based RetrieverkNNLinkupSearchRetrieverLLMLingua Document CompressorLOTR (Merger Retriever)MetalMilvus Hybrid SearchNanoPQ (Product Quantization)needleOutlinePinecone Hybrid SearchPubMedQdrant Sparse VectorRAGatouilleRePhraseQueryRememberizerSEC filingSelf-querying'),\n",
       " Document(id='ab0aa44e-4138-48c8-a315-ed57fa593cfa', metadata={'source': 'https://python.langchain.com/docs/integrations/retrievers/cohere-reranker/', 'title': 'Cohere reranker | \\uf8ffü¶úÔ∏è\\uf8ffüîó LangChain', 'description': 'Cohere is a Canadian startup that provides natural language processing models that help companies improve human-machine interactions.', 'language': 'en'}, page_content='from langchain_community.document_loaders import TextLoaderfrom langchain_community.embeddings import CohereEmbeddingsfrom langchain_community.vectorstores import FAISSfrom langchain_text_splitters import RecursiveCharacterTextSplitterdocuments ='),\n",
       " Document(id='fd1c7f25-13ca-4096-a29f-9d04140dc703', metadata={'source': 'https://python.langchain.com/docs/integrations/retrievers/cohere-reranker/', 'title': 'Cohere reranker | \\uf8ffü¶úÔ∏è\\uf8ffüîó LangChain', 'description': 'Cohere is a Canadian startup that provides natural language processing models that help companies improve human-machine interactions.', 'language': 'en'}, page_content='SearchBedrock (Knowledge Bases)BM25BoxBREEBS (Open Knowledge)ChaindeskChatGPT pluginCohere rerankerCohere RAGDappierDocArrayDriaElasticSearch BM25ElasticsearchEmbedchainFlashRank rerankerFleet AI ContextGoogle DriveGoogle Vertex AI SearchIBM watsonx.aiJaguarDB Vector DatabaseKay.aiKinetica'),\n",
       " Document(id='e5653e80-f993-46ca-8bf7-95af0689c4e7', metadata={'source': 'https://python.langchain.com/docs/integrations/retrievers/cohere-reranker/', 'title': 'Cohere reranker | \\uf8ffü¶úÔ∏è\\uf8ffüîó LangChain', 'description': 'Cohere is a Canadian startup that provides natural language processing models that help companies improve human-machine interactions.', 'language': 'en'}, page_content='AIUpstageVolc EngineVoyage AIXorbits inference (Xinference)YandexGPTZhipuAIOtherComponentsRetrieversCohere rerankerOn this pageCohere reranker'),\n",
       " Document(id='bce8a996-b998-4cbc-b8f9-aa5d82c28e4f', metadata={'source': 'https://python.langchain.com/docs/integrations/retrievers/cohere-reranker/', 'title': 'Cohere reranker | \\uf8ffü¶úÔ∏è\\uf8ffüîó LangChain', 'description': 'Cohere is a Canadian startup that provides natural language processing models that help companies improve human-machine interactions.', 'language': 'en'}, page_content='Vector SearchOutlineOutlinesPandasPaymanAIPebbloPerplexityPetalsPostgres EmbeddingPGVectorPineconePipelineAIPipeshiftPortkeyPredibasePrediction GuardPremAIPromptLayerPsychicPubMedPullMd LoaderPygmalionAIQdrantRAGatouillerank_bm25Ray ServeRebuffRedditRedisRemembrallReplicateRoamSema4 (fka'),\n",
       " Document(id='575620c8-6550-495a-9789-24b100e9665b', metadata={'source': 'https://python.langchain.com/docs/integrations/retrievers/cohere-reranker/', 'title': 'Cohere reranker | \\uf8ffü¶úÔ∏è\\uf8ffüîó LangChain', 'description': 'Cohere is a Canadian startup that provides natural language processing models that help companies improve human-machine interactions.', 'language': 'en'}, page_content='= TextLoader(\"../../how_to/state_of_the_union.txt\").load()text_splitter = RecursiveCharacterTextSplitter(chunk_size=500, chunk_overlap=100)texts = text_splitter.split_documents(documents)retriever = FAISS.from_documents(    texts,'),\n",
       " Document(id='34d65dd9-95e2-44d6-ba6a-5b13c2ee06ca', metadata={'source': 'https://python.langchain.com/docs/integrations/retrievers/cohere-reranker/', 'title': 'Cohere reranker | \\uf8ffü¶úÔ∏è\\uf8ffüîó LangChain', 'description': 'Cohere is a Canadian startup that provides natural language processing models that help companies improve human-machine interactions.', 'language': 'en'}, page_content='by Meta AILindormLlama.cppllamafileLLMRailsLocalAIMiniMaxMistralAImodel2vecModelScopeMosaicMLNaverNLP CloudNomicNVIDIA NIMsOracle Cloud Infrastructure Generative AIOllamaOpenClipOpenAIOpenVINOEmbedding Documents using Optimized and Quantized EmbeddersOracle AI Vector Search: Generate'),\n",
       " Document(id='bfae4d84-37e6-4334-8f84-a3011697dcb7', metadata={'source': 'https://python.langchain.com/docs/integrations/retrievers/cohere-reranker/', 'title': 'Cohere reranker | \\uf8ffü¶úÔ∏è\\uf8ffüîó LangChain', 'description': 'Cohere is a Canadian startup that provides natural language processing models that help companies improve human-machine interactions.', 'language': 'en'}, page_content='retrieversSingleStoreDBSVMTavilySearchAPITF-IDF**NeuralDB**VespaWikipediaYou.comZep CloudZep Open SourceZilliz Cloud PipelineTools/ToolkitsToolsAINetwork ToolkitAlpha VantageAmadeus ToolkitArXivAskNewsAWS LambdaAzure AI Services ToolkitAzure Cognitive Services ToolkitAzure Container Apps dynamic'),\n",
       " Document(id='ee826adf-7b87-4979-9247-5d2668185ff3', metadata={'source': 'https://python.langchain.com/docs/integrations/retrievers/cohere-reranker/', 'title': 'Cohere reranker | \\uf8ffü¶úÔ∏è\\uf8ffüîó LangChain', 'description': 'Cohere is a Canadian startup that provides natural language processing models that help companies improve human-machine interactions.', 'language': 'en'}, page_content='Search: Vector StorePathwayPostgres EmbeddingPGVecto.rsPGVectorPineconeQdrantRedisRelytRocksetSAP HANA Cloud Vector EngineScaNNSemaDBSingleStoreDBscikit-learnSQLiteVecSQLite-VSSSQLServerStarRocksSupabase (Postgres)SurrealDBTablestoreTairTencent Cloud VectorDBThirdAI NeuralDBTiDB')]"
      ]
     },
     "execution_count": 8,
     "metadata": {},
     "output_type": "execute_result"
    }
   ],
   "source": [
    "query = \"What is Cohere Reranking\"\n",
    "vectorstore.invoke(query)"
   ]
  },
  {
   "cell_type": "code",
   "execution_count": 9,
   "metadata": {},
   "outputs": [],
   "source": [
    "def pretty_print_docs(docs):\n",
    "    print(\n",
    "        f\"\\n{'-' * 100}\\n\".join(\n",
    "            [f\"Document {i+1}:\\n\\n\" + d.page_content for i, d in enumerate(docs)]\n",
    "        )\n",
    "    )"
   ]
  },
  {
   "cell_type": "code",
   "execution_count": 10,
   "metadata": {},
   "outputs": [
    {
     "name": "stdout",
     "output_type": "stream",
     "text": [
      "Document 1:\n",
      "\n",
      "This notebook shows how to use Cohere's rerank endpoint in a retriever. This builds on top of ideas in the ContextualCompressionRetriever.\n",
      "%pip install --upgrade --quiet  cohere\n",
      "%pip install --upgrade --quiet  faiss# OR  (depending on Python version)%pip install --upgrade --quiet  faiss-cpu\n",
      "----------------------------------------------------------------------------------------------------\n",
      "Document 2:\n",
      "\n",
      "Doing reranking with CohereRerank‚Äã\n",
      "Now let's wrap our base retriever with a ContextualCompressionRetriever. We'll add an CohereRerank, uses the Cohere rerank endpoint to rerank the returned results.\n",
      "Do note that it is mandatory to specify the model name in CohereRerank!\n",
      "----------------------------------------------------------------------------------------------------\n",
      "Document 3:\n",
      "\n",
      "Cohere is a Canadian startup that provides natural language processing models that help companies improve human-machine interactions.\n",
      "----------------------------------------------------------------------------------------------------\n",
      "Document 4:\n",
      "\n",
      "from langchain.retrievers.contextual_compression import ContextualCompressionRetrieverfrom langchain_cohere import CohereRerankfrom langchain_community.llms import Coherellm = Cohere(temperature=0)compressor = CohereRerank(model=\"rerank-english-v3.0\")compression_retriever =\n",
      "----------------------------------------------------------------------------------------------------\n",
      "Document 5:\n",
      "\n",
      "CohereRerank | Cohere\n",
      "----------------------------------------------------------------------------------------------------\n",
      "Document 6:\n",
      "\n",
      "Edit this pageWas this page helpful?PreviousChatGPT pluginNextCohere RAGSet up the base vector store retrieverDoing reranking with CohereRerankRelatedCommunityTwitterGitHubOrganizationPythonJS/TSMoreHomepageBlogYouTubeCopyright ¬© 2025 LangChain, Inc.\n",
      "----------------------------------------------------------------------------------------------------\n",
      "Document 7:\n",
      "\n",
      "Cohere reranker | ü¶úÔ∏èüîó LangChain\n",
      "----------------------------------------------------------------------------------------------------\n",
      "Document 8:\n",
      "\n",
      "# get a new token: https://dashboard.cohere.ai/import getpassimport osif \"COHERE_API_KEY\" not in os.environ:    os.environ[\"COHERE_API_KEY\"] = getpass.getpass(\"Cohere API Key:\")\n",
      "----------------------------------------------------------------------------------------------------\n",
      "Document 9:\n",
      "\n",
      "You can of course use this retriever within a QA pipeline\n",
      "from langchain.chains import RetrievalQAAPI Reference:RetrievalQA\n",
      "chain = RetrievalQA.from_chain_type(    llm=Cohere(temperature=0), retriever=compression_retriever)\n",
      "chain({\"query\": query})\n",
      "----------------------------------------------------------------------------------------------------\n",
      "Document 10:\n",
      "\n",
      "= ContextualCompressionRetriever(    base_compressor=compressor, base_retriever=retriever)compressed_docs = compression_retriever.invoke(    \"What did the president say about Ketanji Jackson Brown\")pretty_print_docs(compressed_docs)API Reference:ContextualCompressionRetriever | CohereRerank |\n",
      "----------------------------------------------------------------------------------------------------\n",
      "Document 11:\n",
      "\n",
      "texts, CohereEmbeddings(model=\"embed-english-v3.0\")).as_retriever(search_kwargs={\"k\": 20})query = \"What did the president say about Ketanji Brown Jackson\"docs = retriever.invoke(query)pretty_print_docs(docs)API Reference:TextLoader | CohereEmbeddings | FAISS | RecursiveCharacterTextSplitter\n",
      "----------------------------------------------------------------------------------------------------\n",
      "Document 12:\n",
      "\n",
      "Vectorstore based RetrieverkNNLinkupSearchRetrieverLLMLingua Document CompressorLOTR (Merger Retriever)MetalMilvus Hybrid SearchNanoPQ (Product Quantization)needleOutlinePinecone Hybrid SearchPubMedQdrant Sparse VectorRAGatouilleRePhraseQueryRememberizerSEC filingSelf-querying\n",
      "----------------------------------------------------------------------------------------------------\n",
      "Document 13:\n",
      "\n",
      "from langchain_community.document_loaders import TextLoaderfrom langchain_community.embeddings import CohereEmbeddingsfrom langchain_community.vectorstores import FAISSfrom langchain_text_splitters import RecursiveCharacterTextSplitterdocuments =\n",
      "----------------------------------------------------------------------------------------------------\n",
      "Document 14:\n",
      "\n",
      "SearchBedrock (Knowledge Bases)BM25BoxBREEBS (Open Knowledge)ChaindeskChatGPT pluginCohere rerankerCohere RAGDappierDocArrayDriaElasticSearch BM25ElasticsearchEmbedchainFlashRank rerankerFleet AI ContextGoogle DriveGoogle Vertex AI SearchIBM watsonx.aiJaguarDB Vector DatabaseKay.aiKinetica\n",
      "----------------------------------------------------------------------------------------------------\n",
      "Document 15:\n",
      "\n",
      "AIUpstageVolc EngineVoyage AIXorbits inference (Xinference)YandexGPTZhipuAIOtherComponentsRetrieversCohere rerankerOn this pageCohere reranker\n",
      "----------------------------------------------------------------------------------------------------\n",
      "Document 16:\n",
      "\n",
      "Vector SearchOutlineOutlinesPandasPaymanAIPebbloPerplexityPetalsPostgres EmbeddingPGVectorPineconePipelineAIPipeshiftPortkeyPredibasePrediction GuardPremAIPromptLayerPsychicPubMedPullMd LoaderPygmalionAIQdrantRAGatouillerank_bm25Ray ServeRebuffRedditRedisRemembrallReplicateRoamSema4 (fka\n",
      "----------------------------------------------------------------------------------------------------\n",
      "Document 17:\n",
      "\n",
      "= TextLoader(\"../../how_to/state_of_the_union.txt\").load()text_splitter = RecursiveCharacterTextSplitter(chunk_size=500, chunk_overlap=100)texts = text_splitter.split_documents(documents)retriever = FAISS.from_documents(    texts,\n",
      "----------------------------------------------------------------------------------------------------\n",
      "Document 18:\n",
      "\n",
      "by Meta AILindormLlama.cppllamafileLLMRailsLocalAIMiniMaxMistralAImodel2vecModelScopeMosaicMLNaverNLP CloudNomicNVIDIA NIMsOracle Cloud Infrastructure Generative AIOllamaOpenClipOpenAIOpenVINOEmbedding Documents using Optimized and Quantized EmbeddersOracle AI Vector Search: Generate\n",
      "----------------------------------------------------------------------------------------------------\n",
      "Document 19:\n",
      "\n",
      "retrieversSingleStoreDBSVMTavilySearchAPITF-IDF**NeuralDB**VespaWikipediaYou.comZep CloudZep Open SourceZilliz Cloud PipelineTools/ToolkitsToolsAINetwork ToolkitAlpha VantageAmadeus ToolkitArXivAskNewsAWS LambdaAzure AI Services ToolkitAzure Cognitive Services ToolkitAzure Container Apps dynamic\n",
      "----------------------------------------------------------------------------------------------------\n",
      "Document 20:\n",
      "\n",
      "Search: Vector StorePathwayPostgres EmbeddingPGVecto.rsPGVectorPineconeQdrantRedisRelytRocksetSAP HANA Cloud Vector EngineScaNNSemaDBSingleStoreDBscikit-learnSQLiteVecSQLite-VSSSQLServerStarRocksSupabase (Postgres)SurrealDBTablestoreTairTencent Cloud VectorDBThirdAI NeuralDBTiDB\n"
     ]
    }
   ],
   "source": [
    "docs = vectorstore.invoke(query)\n",
    "pretty_print_docs(docs)"
   ]
  },
  {
   "cell_type": "code",
   "execution_count": 11,
   "metadata": {},
   "outputs": [],
   "source": [
    "from langchain.retrievers.contextual_compression import ContextualCompressionRetriever\n",
    "from langchain_cohere import CohereRerank\n",
    "from langchain_community.llms import Cohere"
   ]
  },
  {
   "cell_type": "code",
   "execution_count": 17,
   "metadata": {},
   "outputs": [],
   "source": [
    "llm = Cohere(temperature=0)\n",
    "compressor = CohereRerank(model=\"rerank-english-v3.0\")\n",
    "compression_retriever = ContextualCompressionRetriever(\n",
    "    base_compressor=compressor, base_retriever=vectorstore\n",
    ")"
   ]
  },
  {
   "cell_type": "code",
   "execution_count": 18,
   "metadata": {},
   "outputs": [
    {
     "name": "stdout",
     "output_type": "stream",
     "text": [
      "Document 1:\n",
      "\n",
      "Doing reranking with CohereRerank‚Äã\n",
      "Now let's wrap our base retriever with a ContextualCompressionRetriever. We'll add an CohereRerank, uses the Cohere rerank endpoint to rerank the returned results.\n",
      "Do note that it is mandatory to specify the model name in CohereRerank!\n",
      "----------------------------------------------------------------------------------------------------\n",
      "Document 2:\n",
      "\n",
      "This notebook shows how to use Cohere's rerank endpoint in a retriever. This builds on top of ideas in the ContextualCompressionRetriever.\n",
      "%pip install --upgrade --quiet  cohere\n",
      "%pip install --upgrade --quiet  faiss# OR  (depending on Python version)%pip install --upgrade --quiet  faiss-cpu\n",
      "----------------------------------------------------------------------------------------------------\n",
      "Document 3:\n",
      "\n",
      "CohereRerank | Cohere\n"
     ]
    }
   ],
   "source": [
    "compressed_docs = compression_retriever.invoke(\n",
    "    \"How to use Cohere Reranking\"\n",
    ")\n",
    "pretty_print_docs(compressed_docs)"
   ]
  },
  {
   "cell_type": "code",
   "execution_count": 19,
   "metadata": {},
   "outputs": [],
   "source": [
    "from langchain.chains import RetrievalQA\n",
    "chain = RetrievalQA.from_chain_type(\n",
    "    llm=Cohere(temperature=0), retriever=compression_retriever\n",
    ")"
   ]
  },
  {
   "cell_type": "code",
   "execution_count": 21,
   "metadata": {},
   "outputs": [
    {
     "data": {
      "text/plain": [
       "{'query': 'How to use Cohere Reranking',\n",
       " 'result': \" The provided text mentions using `CohereRerank` to rerank the returned results from a search. To use `CohereRerank`, one has to specify the model name, which is a mandatory field. You can install the required libraries (`cohere` and `faiss` or `faiss-cpu`) to utilize the Cohere retriever and rerank endpoint. \\nUnfortunately, I don't have access to the internet here, and I cannot install the above-mentioned libraries. Feel free to install them to explore and experiment with CohereRerank and the rerank endpoint. \\nIf you have any specific questions about installing or using CohereRerank, please let me know, and I will gladly assist you based on the available resources and my knowledge. \"}"
      ]
     },
     "execution_count": 21,
     "metadata": {},
     "output_type": "execute_result"
    }
   ],
   "source": [
    "chain({\"query\": \"How to use Cohere Reranking\"})"
   ]
  },
  {
   "cell_type": "code",
   "execution_count": null,
   "metadata": {},
   "outputs": [],
   "source": []
  }
 ],
 "metadata": {
  "kernelspec": {
   "display_name": "Python 3",
   "language": "python",
   "name": "python3"
  },
  "language_info": {
   "codemirror_mode": {
    "name": "ipython",
    "version": 3
   },
   "file_extension": ".py",
   "mimetype": "text/x-python",
   "name": "python",
   "nbconvert_exporter": "python",
   "pygments_lexer": "ipython3",
   "version": "3.12.8"
  }
 },
 "nbformat": 4,
 "nbformat_minor": 2
}
