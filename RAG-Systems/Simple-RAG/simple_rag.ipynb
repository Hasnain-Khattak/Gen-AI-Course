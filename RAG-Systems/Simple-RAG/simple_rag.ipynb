{
 "cells": [
  {
   "cell_type": "markdown",
   "metadata": {},
   "source": [
    "# **Simple RAG**\n",
    "\n",
    "In this notebook, we are consolidating the concepts from our previous sessions into a single project. We are creating a simple RAG (Retrieval-Augmented Generation) system by applying the knowledge we have gained so far using  `LangChain`.\n",
    "\n",
    "In this notebook, we will use the following components:\n",
    "1. **Loaders**\n",
    "2. **Splitters**\n",
    "3. **Embaddings**\n",
    "4. **VectorStore**\n",
    "5. **Messages**\n",
    "6. **PromptTemplate**\n",
    "7. **ChatModels**\n",
    "8. **OutputParser**\n",
    "9. **Chain**"
   ]
  },
  {
   "cell_type": "markdown",
   "metadata": {},
   "source": [
    "----"
   ]
  },
  {
   "cell_type": "markdown",
   "metadata": {},
   "source": [
    "### **Loading the Documents**"
   ]
  },
  {
   "cell_type": "code",
   "execution_count": 1,
   "metadata": {},
   "outputs": [
    {
     "name": "stderr",
     "output_type": "stream",
     "text": [
      "100%|██████████| 9/9 [00:10<00:00,  1.19s/it]\n"
     ]
    }
   ],
   "source": [
    "# In the first step we are loading all the files in a particular directory. Because we have all pdf files so we are using DirectoryLoader\n",
    "from langchain_community.document_loaders import DirectoryLoader\n",
    "from langchain_community.document_loaders import PyPDFLoader\n",
    "loader = DirectoryLoader('./Statictics PDF', glob='**/*.pdf', show_progress=True, use_multithreading=True, loader_cls=PyPDFLoader)\n",
    "documents = loader.load()"
   ]
  },
  {
   "cell_type": "code",
   "execution_count": 5,
   "metadata": {},
   "outputs": [
    {
     "data": {
      "text/plain": [
       "'Bernoulli distribution is a probability distribution that models a binary outcome, where the \\noutcome can be either success (represented by the value 1) or failure (represented by the \\nvalue 0). The Bernoulli distribution is named after the Swiss mathematician Jacob Bernoulli, \\nwho first introduced it in the late 1600s.\\nThe Bernoulli distribution is characterized by a single parameter, which is the probability of \\nsuccess, denoted by p. The probability mass function (PMF) of the Bernoulli distribution is:\\nThe Bernoulli distribution is commonly used in machine learning for modelling \\nbinary outcomes, such as whether a customer will make a purchase or not, \\nwhether an email is spam or not, or whether a patient will have a certain disease \\nor not.\\nBernoulli Distribution\\n27 March 2023 16:06\\n   Session on Central Limit Theorem Page 1    '"
      ]
     },
     "execution_count": 5,
     "metadata": {},
     "output_type": "execute_result"
    }
   ],
   "source": [
    "documents[0].page_content"
   ]
  },
  {
   "cell_type": "code",
   "execution_count": 7,
   "metadata": {},
   "outputs": [
    {
     "data": {
      "text/plain": [
       "844"
      ]
     },
     "execution_count": 7,
     "metadata": {},
     "output_type": "execute_result"
    }
   ],
   "source": [
    "len(documents[0].page_content)"
   ]
  },
  {
   "cell_type": "code",
   "execution_count": 6,
   "metadata": {},
   "outputs": [
    {
     "data": {
      "text/plain": [
       "119"
      ]
     },
     "execution_count": 6,
     "metadata": {},
     "output_type": "execute_result"
    }
   ],
   "source": [
    "len(documents)"
   ]
  },
  {
   "cell_type": "markdown",
   "metadata": {},
   "source": [
    "### **Splitting the Documents**"
   ]
  },
  {
   "cell_type": "code",
   "execution_count": 8,
   "metadata": {},
   "outputs": [],
   "source": [
    "## Now in this step we are splitting the documents into chunks.\n",
    "from langchain_text_splitters import RecursiveCharacterTextSplitter\n",
    "\n",
    "splitter = RecursiveCharacterTextSplitter(chunk_size=250, chunk_overlap=70, )\n",
    "\n",
    "chunks = splitter.split_documents(documents)"
   ]
  },
  {
   "cell_type": "code",
   "execution_count": 12,
   "metadata": {},
   "outputs": [
    {
     "data": {
      "text/plain": [
       "183"
      ]
     },
     "execution_count": 12,
     "metadata": {},
     "output_type": "execute_result"
    }
   ],
   "source": [
    "len(chunks[0].page_content)"
   ]
  },
  {
   "cell_type": "code",
   "execution_count": 13,
   "metadata": {},
   "outputs": [
    {
     "data": {
      "text/plain": [
       "477"
      ]
     },
     "execution_count": 13,
     "metadata": {},
     "output_type": "execute_result"
    }
   ],
   "source": [
    "len(chunks)"
   ]
  },
  {
   "cell_type": "markdown",
   "metadata": {},
   "source": [
    "### **Initializing the Embadding Model**"
   ]
  },
  {
   "cell_type": "code",
   "execution_count": null,
   "metadata": {},
   "outputs": [],
   "source": [
    "## We are using GoogleGemini Embadding Model\n",
    "from langchain_google_genai import GoogleGenerativeAIEmbeddings\n",
    "import tqdm as notebook_tqdm\n",
    "embadding = GoogleGenerativeAIEmbeddings(google_api_key=\"Your-API-KEY\", model=\"models/embedding-001\")"
   ]
  },
  {
   "cell_type": "markdown",
   "metadata": {},
   "source": [
    "### **Using FAISS VectorStore**"
   ]
  },
  {
   "cell_type": "code",
   "execution_count": 16,
   "metadata": {},
   "outputs": [],
   "source": [
    "from langchain_community.vectorstores import FAISS\n",
    "\n",
    "vector_store = FAISS.from_documents(chunks, embadding)"
   ]
  },
  {
   "cell_type": "code",
   "execution_count": 17,
   "metadata": {},
   "outputs": [],
   "source": [
    "## Lets check the similarity search\n",
    "qs = 'What is statistics'\n",
    "retriver = vector_store.similarity_search(qs)"
   ]
  },
  {
   "cell_type": "code",
   "execution_count": 18,
   "metadata": {},
   "outputs": [
    {
     "data": {
      "text/plain": [
       "[Document(id='6c875e84-01de-4c99-bde8-41abb38daf99', metadata={'source': 'Statictics PDF\\\\Descriptive_Statistics.pdf', 'page': 0}, page_content='Statistics is a branch of mathematics that involves collecting, \\nanalysing, interpreting, and presenting data. It provides tools and \\nmethods to understand and make sense of large amounts of data'),\n",
       " Document(id='9e812dda-c475-496a-9cf8-fb8cf7f30a90', metadata={'source': 'Statictics PDF\\\\Descriptive_Statistics.pdf', 'page': 0}, page_content='Environmental Science - Climate research4.\\nWhat is Statistics\\n09 March 2023 14:56\\n   Session 1 on Descriptive Statistics Page 1'),\n",
       " Document(id='5fb46fb0-914f-4324-876e-eb70db6b11e3', metadata={'source': 'Statictics PDF\\\\Confidence__Interval.pdf', 'page': 0}, page_content='estimated based on available sample data.\\nStatistic: A statistic is a numerical value that describes a characteristic of a sample, which is a \\nsubset of the population. By using statistics calculated from a representative sample,'),\n",
       " Document(id='2b8287bd-6eb7-4448-be08-ae8ebdffdac1', metadata={'source': 'Statictics PDF\\\\Descriptive_Statistics.pdf', 'page': 0}, page_content='In practice, statistics is used in a wide range of fields, such as \\nbusiness, economics, social sciences, medicine, and engineering. It is \\nused to conduct research studies, analyse market trends, evaluate')]"
      ]
     },
     "execution_count": 18,
     "metadata": {},
     "output_type": "execute_result"
    }
   ],
   "source": [
    "retriver "
   ]
  },
  {
   "cell_type": "code",
   "execution_count": 22,
   "metadata": {},
   "outputs": [],
   "source": [
    "retriver = vector_store.as_retriever()"
   ]
  },
  {
   "cell_type": "code",
   "execution_count": 24,
   "metadata": {},
   "outputs": [
    {
     "data": {
      "text/plain": [
       "VectorStoreRetriever(tags=['FAISS', 'GoogleGenerativeAIEmbeddings'], vectorstore=<langchain_community.vectorstores.faiss.FAISS object at 0x0000025E79E0B0B0>, search_kwargs={})"
      ]
     },
     "execution_count": 24,
     "metadata": {},
     "output_type": "execute_result"
    }
   ],
   "source": [
    "retriver"
   ]
  },
  {
   "cell_type": "markdown",
   "metadata": {},
   "source": [
    "### **System Message**"
   ]
  },
  {
   "cell_type": "code",
   "execution_count": 36,
   "metadata": {},
   "outputs": [],
   "source": [
    "system_message = (\n",
    "    \"\"\"You are a very helpful assistant for solving the queries of users about statistics.\n",
    "\n",
    "    Your role is to act as a highly professional statistician with expertise in statistical concepts, methods, and analysis. \n",
    "    Your primary job is to help students solve their queries and provide accurate, clear, and well-explained answers based on the retrieved information from the knowledge base. \n",
    "\n",
    "    Guidelines for responding:\n",
    "    - Be precise and professional in your explanations.\n",
    "    - Use simple, clear language when explaining complex concepts, but maintain accuracy.\n",
    "    - Don't say that according to the retrival or context. Don't use these words. Just start the answer.\n",
    "    - Provide examples, formulas, or step-by-step solutions where necessary.\n",
    "    - If the retrieved information is insufficient, ask clarifying questions to better understand the user's needs.\n",
    "    - Always ensure that your answers are correct and relevant to the query.\n",
    "\n",
    "    {retrieved_content}\n",
    "    \"\"\"\n",
    ")"
   ]
  },
  {
   "cell_type": "markdown",
   "metadata": {},
   "source": [
    "### **ChatPromptTemplate**"
   ]
  },
  {
   "cell_type": "code",
   "execution_count": 37,
   "metadata": {},
   "outputs": [],
   "source": [
    "from langchain_core.prompts import ChatPromptTemplate\n",
    "prompt = ChatPromptTemplate([\n",
    "    ('system', system_message),\n",
    "    ('human', '{input_message}')\n",
    "])"
   ]
  },
  {
   "cell_type": "code",
   "execution_count": 38,
   "metadata": {},
   "outputs": [
    {
     "data": {
      "text/plain": [
       "ChatPromptTemplate(input_variables=['input_message', 'retrieved_content'], input_types={}, partial_variables={}, messages=[SystemMessagePromptTemplate(prompt=PromptTemplate(input_variables=['retrieved_content'], input_types={}, partial_variables={}, template=\"You are a very helpful assistant for solving the queries of users about statistics.\\n\\n    Your role is to act as a highly professional statistician with expertise in statistical concepts, methods, and analysis. \\n    Your primary job is to help students solve their queries and provide accurate, clear, and well-explained answers based on the retrieved information from the knowledge base. \\n\\n    Guidelines for responding:\\n    - Be precise and professional in your explanations.\\n    - Use simple, clear language when explaining complex concepts, but maintain accuracy.\\n    - Don't say that according to the retrival or context. Don't use these words. Just start the answer.\\n    - Provide examples, formulas, or step-by-step solutions where necessary.\\n    - If the retrieved information is insufficient, ask clarifying questions to better understand the user's needs.\\n    - Always ensure that your answers are correct and relevant to the query.\\n\\n    {retrieved_content}\\n    \"), additional_kwargs={}), HumanMessagePromptTemplate(prompt=PromptTemplate(input_variables=['input_message'], input_types={}, partial_variables={}, template='{input_message}'), additional_kwargs={})])"
      ]
     },
     "execution_count": 38,
     "metadata": {},
     "output_type": "execute_result"
    }
   ],
   "source": [
    "prompt"
   ]
  },
  {
   "cell_type": "markdown",
   "metadata": {},
   "source": [
    "### **ChatModel**"
   ]
  },
  {
   "cell_type": "code",
   "execution_count": 25,
   "metadata": {},
   "outputs": [],
   "source": [
    "## For chat-model I am using GROQ models\n",
    "from langchain_groq import ChatGroq\n",
    "\n",
    "llm = ChatGroq(api_key=\"Your-API-KEY\", model='llama-3.1-8b-instant')"
   ]
  },
  {
   "cell_type": "markdown",
   "metadata": {},
   "source": [
    "### **OutputParser**"
   ]
  },
  {
   "cell_type": "code",
   "execution_count": 28,
   "metadata": {},
   "outputs": [],
   "source": [
    "from langchain_core.output_parsers import StrOutputParser"
   ]
  },
  {
   "cell_type": "markdown",
   "metadata": {},
   "source": [
    "### **Chain**"
   ]
  },
  {
   "cell_type": "code",
   "execution_count": 39,
   "metadata": {},
   "outputs": [],
   "source": [
    "from langchain_core.runnables import RunnablePassthrough\n",
    "\n",
    "\n",
    "def format_docs(docs):\n",
    "    return \"\\n\\n\".join(doc.page_content for doc in docs)\n",
    "\n",
    "\n",
    "rag_chain = (\n",
    "    {\"retrieved_content\": retriver | format_docs, \"input_message\": RunnablePassthrough()}\n",
    "    | prompt\n",
    "    | llm\n",
    "    | StrOutputParser()\n",
    ")\n"
   ]
  },
  {
   "cell_type": "code",
   "execution_count": 40,
   "metadata": {},
   "outputs": [
    {
     "name": "stdout",
     "output_type": "stream",
     "text": [
      "There are two primary types of statistics:\n",
      "\n",
      "1. **Descriptive Statistics**: Descriptive statistics deals with the collection, organization, analysis, interpretation, and presentation of data. It focuses on summarizing and describing the main features of a set of data, without making inferences or predictions about the population. Examples of descriptive statistics include measures of central tendency (mean, median, mode), measures of variability (range, variance, standard deviation), and data visualization techniques (histograms, box plots).\n",
      "\n",
      "2. **Inferential Statistics**: Inferential statistics, on the other hand, involves making inferences or predictions about a population based on a sample of data. It uses probability theory to estimate population parameters and make conclusions about the population. Examples of inferential statistics include hypothesis testing, confidence intervals, and regression analysis.\n",
      "\n",
      "In addition to these two main types, there are also two subcategories within descriptive statistics:\n",
      "\n",
      "- **Univariate Statistics**: Univariate statistics involve analyzing a single variable or dataset. Examples include measures of central tendency and variability.\n",
      "\n",
      "- **Bivariate Statistics**: Bivariate statistics involve analyzing the relationship between two variables. Examples include correlation analysis and regression analysis.\n",
      "\n",
      "And within inferential statistics, there are also subcategories:\n",
      "\n",
      "- **Probability and Probability Distributions**: This category deals with the mathematical models used to describe the behavior of random variables, such as the normal distribution, binomial distribution, and Poisson distribution.\n",
      "\n",
      "- **Statistical Inference**: This category deals with making inferences or predictions about a population based on a sample of data, including hypothesis testing and confidence intervals."
     ]
    }
   ],
   "source": [
    "for chunk in rag_chain.stream(\"Types of Statistics?\"):\n",
    "    print(chunk, end=\"\", flush=True)"
   ]
  },
  {
   "cell_type": "code",
   "execution_count": null,
   "metadata": {},
   "outputs": [],
   "source": []
  }
 ],
 "metadata": {
  "kernelspec": {
   "display_name": "Python 3",
   "language": "python",
   "name": "python3"
  },
  "language_info": {
   "codemirror_mode": {
    "name": "ipython",
    "version": 3
   },
   "file_extension": ".py",
   "mimetype": "text/x-python",
   "name": "python",
   "nbconvert_exporter": "python",
   "pygments_lexer": "ipython3",
   "version": "3.12.8"
  }
 },
 "nbformat": 4,
 "nbformat_minor": 2
}
